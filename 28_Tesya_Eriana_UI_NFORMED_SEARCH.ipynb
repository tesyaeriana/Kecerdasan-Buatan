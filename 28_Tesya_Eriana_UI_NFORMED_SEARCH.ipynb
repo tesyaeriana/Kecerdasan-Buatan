{
  "nbformat": 4,
  "nbformat_minor": 0,
  "metadata": {
    "colab": {
      "provenance": [],
      "authorship_tag": "ABX9TyPFCllEnqe7gxiiFMlCgQ7S",
      "include_colab_link": true
    },
    "kernelspec": {
      "name": "python3",
      "display_name": "Python 3"
    },
    "language_info": {
      "name": "python"
    }
  },
  "cells": [
    {
      "cell_type": "markdown",
      "metadata": {
        "id": "view-in-github",
        "colab_type": "text"
      },
      "source": [
        "<a href=\"https://colab.research.google.com/github/tesyaeriana/Kecerdasan-Buatan/blob/main/28_Tesya_Eriana_UI_NFORMED_SEARCH.ipynb\" target=\"_parent\"><img src=\"https://colab.research.google.com/assets/colab-badge.svg\" alt=\"Open In Colab\"/></a>"
      ]
    },
    {
      "cell_type": "code",
      "execution_count": 1,
      "metadata": {
        "colab": {
          "base_uri": "https://localhost:8080/",
          "height": 0
        },
        "id": "CRXj4UQE3YEr",
        "outputId": "ef762b92-ec5a-45b3-f020-b67cf3df4a8a"
      },
      "outputs": [
        {
          "output_type": "stream",
          "name": "stdout",
          "text": [
            "Hasil penelusuran graf menggunakan BFS :\n",
            "A B C D E F H G "
          ]
        }
      ],
      "source": [
        "graph = {\n",
        "    'A' : ['B','C'],\n",
        "    'B' : ['D','E'],\n",
        "    'C' : ['F'],\n",
        "    'D' : [],\n",
        "    'E' : ['F'],\n",
        "    'F' : ['H'],\n",
        "    'G' : ['H'],\n",
        "    'H' : ['G']\n",
        "}\n",
        "\n",
        "visited = []\n",
        "queue = []\n",
        "\n",
        "def bfs(visited, graph, node):\n",
        "  visited.append(node)\n",
        "  queue.append(node)\n",
        "  \n",
        "  while queue:\n",
        "    s= queue.pop(0)\n",
        "    print(s, end =\" \")\n",
        "\n",
        "    for neighbour in graph[s]:\n",
        "      if neighbour not in visited:\n",
        "        visited.append(neighbour)\n",
        "        queue.append(neighbour)\n",
        "print(\"Hasil penelusuran graf menggunakan BFS :\")\n",
        "bfs(visited, graph, 'A')"
      ]
    },
    {
      "cell_type": "markdown",
      "source": [
        "1. Jelaskan detail dari Langkah ketiga pada percobaan 1\n",
        "    \n",
        "  Jawab : Pada kode program diatas dapat dijelaskan yang pertama membuat fungsi def dengan nama bfs dengan parameter visited, graph dan node, lalu  \n",
        "2. Bagaimana hasil penelusuran graf diatas bila node E terhubung dengan node F dan G \n",
        "(neighbour dari E adalah F dan G)? Mengapa?\n",
        "  \n",
        "  Jawab : Akan menghasilkan A B C D E F G H, Hasil penelusuran berbeda dengan sebelumnya Karena E bertetangga dengan G sehingga yang di tampilkan akan duluan yang G daripada H\n",
        "3. Apakah kode program tersebut benar atau tidak jika bentuk graphnya seperti itu, jika tidak jelaskan dan bagaimana pembenarannya?\n",
        "\n",
        "  Jawab : Ya kode program di atas sudah benar"
      ],
      "metadata": {
        "id": "l7Kj6mKgBPkE"
      }
    },
    {
      "cell_type": "code",
      "source": [
        "graph = {\n",
        "    'A' : ['B','C'],\n",
        "    'B' : ['D','E'],\n",
        "    'C' : ['F'],\n",
        "    'D' : [],\n",
        "    'E' : ['F'],\n",
        "    'F' : ['H'],\n",
        "    'G' : ['H'],\n",
        "    'H' : ['G']\n",
        "}\n",
        "\n",
        "visited = set()\n",
        "\n",
        "def dfs(visited, graph, node):\n",
        "  if node not in visited:\n",
        "    print(node)\n",
        "    visited.add(node)\n",
        "    for neighbour in graph[node]:\n",
        "      dfs(visited, graph, neighbour)\n",
        "print(\"Hasil penelusuran graf menggunakan BFS :\")\n",
        "dfs(visited, graph, 'A')"
      ],
      "metadata": {
        "colab": {
          "base_uri": "https://localhost:8080/",
          "height": 0
        },
        "id": "9kH1tScSAfVm",
        "outputId": "697eb19d-21c7-4af2-f6cb-28aadaee3398"
      },
      "execution_count": 2,
      "outputs": [
        {
          "output_type": "stream",
          "name": "stdout",
          "text": [
            "Hasil penelusuran graf menggunakan BFS :\n",
            "A\n",
            "B\n",
            "D\n",
            "E\n",
            "F\n",
            "H\n",
            "G\n",
            "C\n"
          ]
        }
      ]
    },
    {
      "cell_type": "markdown",
      "source": [
        "1. Jelaskan secara rinci Langkah ketiga dari percobaan 2!\n",
        "\n",
        "  Jawab : pada kode program diatas awal membuat fungsi def yang bernama dfs dengan parameter visited, graph, node kemudian akan di cek jika node bukan yang akan dikunjungi maka node tersebut akan di cetak dan ditambahkan pada array visited , lalu dilakukan perulangan untuk neighbour dalam graph lalu melakukan pemanggilang untuk fungsi itu sendiri.\n",
        "2. Apakah terdapat perbedaan hasil penelusuran bila node B terhubung dengan node C? Mengapa?\n",
        "\n",
        "  Jawab : Menghasilkan Hasil Yang berbeda \n",
        "3. Apakah kode program tersebut benar atau tidak jika bentuk graphnya seperti itu, jika tidak jelaskan dan bagaimana pembenarannya?\n",
        "  Jawab : Sudah benar."
      ],
      "metadata": {
        "id": "8hJ96I-MBWzh"
      }
    },
    {
      "cell_type": "code",
      "source": [
        "graph = {\n",
        "  'A' : ['B','E','F'],\n",
        "  'B' : ['G'],\n",
        "  'C' : ['D'],\n",
        "  'D' : ['H'],\n",
        "  'E' : ['F'],\n",
        "  'F' : [],\n",
        "  'G' : ['C','H'],\n",
        "  'H' : ['D','G']\n",
        "}\n",
        "visited = []\n",
        "queue = []\n",
        "\n",
        "def bfs(visited, graph, node):\n",
        "  visited.append(node)\n",
        "  queue.append(node)\n",
        "  \n",
        "  while queue:\n",
        "    s= queue.pop(0)\n",
        "    print(s, end =\" \")\n",
        "\n",
        "    for neighbour in graph[s]:\n",
        "      if neighbour not in visited:\n",
        "        visited.append(neighbour)\n",
        "        queue.append(neighbour)\n",
        "print(\"Hasil penelusuran graf menggunakan BFS :\")\n",
        "bfs(visited, graph, 'A')\n"
      ],
      "metadata": {
        "colab": {
          "base_uri": "https://localhost:8080/",
          "height": 0
        },
        "id": "F0dJxVA7CEmX",
        "outputId": "d98d360e-84b6-49f2-cf9e-681e2a240478"
      },
      "execution_count": 4,
      "outputs": [
        {
          "output_type": "stream",
          "name": "stdout",
          "text": [
            "Hasil penelusuran graf menggunakan BFS :\n",
            "A B E F G C H D "
          ]
        }
      ]
    },
    {
      "cell_type": "code",
      "source": [
        "graph = {\n",
        "  'A' : ['B','E','F'],\n",
        "  'B' : ['G'],\n",
        "  'C' : ['D'],\n",
        "  'D' : ['H'],\n",
        "  'E' : ['F'],\n",
        "  'F' : [],\n",
        "  'G' : ['C','H'],\n",
        "  'H' : ['D','G']\n",
        "}\n",
        "visited = set()\n",
        "\n",
        "def dfs(visited, graph, node):\n",
        "  if node not in visited:\n",
        "    print(node)\n",
        "    visited.add(node)\n",
        "    for neighbour in graph[node]:\n",
        "      dfs(visited, graph, neighbour)\n",
        "print(\"Hasil penelusuran graf menggunakan BFS :\")\n",
        "dfs(visited, graph, 'A')"
      ],
      "metadata": {
        "colab": {
          "base_uri": "https://localhost:8080/",
          "height": 0
        },
        "id": "hEtm9XqKSTap",
        "outputId": "8d6e7fef-4953-45b7-d8e3-71704be542a8"
      },
      "execution_count": 5,
      "outputs": [
        {
          "output_type": "stream",
          "name": "stdout",
          "text": [
            "Hasil penelusuran graf menggunakan BFS :\n",
            "A\n",
            "B\n",
            "G\n",
            "C\n",
            "D\n",
            "H\n",
            "E\n",
            "F\n"
          ]
        }
      ]
    },
    {
      "cell_type": "code",
      "source": [
        "\n",
        "graph = {\n",
        "    'A' : ['B'],\n",
        "    'B' : ['A','F','G'],\n",
        "    'C' : ['D','G'],\n",
        "    'D' : ['C','H'],\n",
        "    'E' : ['F'],\n",
        "    'F' : ['B','E'],\n",
        "    'G' : ['B','C'],\n",
        "    'H' : ['D']\n",
        "}\n",
        "\n",
        "visited = {}\n",
        "level = {}\n",
        "parent = {}\n",
        "bfs = []\n",
        "queue = Queue()\n",
        "\n",
        "for node in graph.keys():\n",
        "    visited[node] = False\n",
        "    parent[node] = None\n",
        "    level[node] = -1\n",
        "    \n",
        "s = \"A\"\n",
        "visited[s] = True\n",
        "level[s] = 0\n",
        "queue.put(s)\n",
        "\n",
        "while not queue.empty():\n",
        "    u = queue.get()\n",
        "    bfs.append(u)\n",
        "    \n",
        "    for v in graph[u]:\n",
        "        if not visited[v]:\n",
        "            visited[v] = True\n",
        "            parent[v] = u\n",
        "            level[v] = level[u]+1\n",
        "            queue.put(v)\n",
        "            \n",
        "print(\"Hasil penelusuran graf menggunakan BFS : \")\n",
        "print(bfs)\n",
        "\n",
        "v = \"D\"\n",
        "path = []\n",
        "while v is not None:\n",
        "    path.append(v)\n",
        "    v = parent[v]\n",
        "path.reverse()\n",
        "\n",
        "print(\"\\nHasil penelusuran huruf 'D' graf menggunakan BFS :\\n\", path)\n",
        "color = {}\n",
        "parent = {}\n",
        "trav_time = {}\n",
        "dfs = []\n",
        "\n",
        "for node in graph.keys():\n",
        "    color[node] = \"W\"\n",
        "    parent[node] = None\n",
        "    trav_time[node] = [-1, -1]\n",
        "    \n",
        "time = 0\n",
        "def dfs_util(u):\n",
        "    global time\n",
        "    color[u] = \"G\"\n",
        "    trav_time[u][0] = time\n",
        "    dfs.append(u)\n",
        "    \n",
        "    for v in graph[u]:\n",
        "        if color[v] == \"W\":\n",
        "            parent[v] = u\n",
        "            dfs_util(v)\n",
        "    color[u] = \"B\"\n",
        "    trav_time[u][1] = time\n",
        "    time += 1\n",
        "    \n",
        "print(\"Hasil penelusuran graf menggunakan DFS : \")\n",
        "dfs_util(\"A\")\n",
        "print(dfs)\n",
        "\n",
        "v = \"D\"\n",
        "path = []\n",
        "while v is not None:\n",
        "    path.append(v)\n",
        "    v = parent[v]\n",
        "path.reverse()\n",
        "\n",
        "print(\"\\nHasil penelusuran huruf 'D' graf menggunakan DFS :\")\n",
        "print(path)"
      ],
      "metadata": {
        "colab": {
          "base_uri": "https://localhost:8080/",
          "height": 0
        },
        "id": "tqDwlKOASfkc",
        "outputId": "9c371596-e770-4abe-85fc-6e0e707ba852"
      },
      "execution_count": 6,
      "outputs": [
        {
          "output_type": "stream",
          "name": "stdout",
          "text": [
            "Hasil penelusuran graf menggunakan BFS : \n",
            "['A', 'B', 'F', 'G', 'E', 'C', 'D', 'H']\n",
            "\n",
            "Hasil penelusuran huruf 'D' graf menggunakan BFS :\n",
            " ['A', 'B', 'G', 'C', 'D']\n",
            "Hasil penelusuran graf menggunakan DFS : \n",
            "['A', 'B', 'F', 'E', 'G', 'C', 'D', 'H']\n",
            "\n",
            "Hasil penelusuran huruf 'D' graf menggunakan DFS :\n",
            "['A', 'B', 'G', 'C', 'D']\n"
          ]
        }
      ]
    },
    {
      "cell_type": "markdown",
      "source": [
        "Kesimpulan : Yang paling efektif menggunakan DFS karena pencarian bfs menggunakan cara secara mendatar sehingga kita perlu mengunjungi satu persatu dari node."
      ],
      "metadata": {
        "id": "irfdlLD6VcVw"
      }
    },
    {
      "cell_type": "markdown",
      "source": [
        "Nama : Tesya Eriana\n",
        "\n",
        "Kelas : TI2B\n",
        "\n",
        "NIM   : 2141720024\n",
        "\n",
        "ABSEN : 28"
      ],
      "metadata": {
        "id": "nueI4wT5Wi5e"
      }
    }
  ]
}